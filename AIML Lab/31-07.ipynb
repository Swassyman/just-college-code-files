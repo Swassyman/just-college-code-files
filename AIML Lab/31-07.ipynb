{
 "cells": [
  {
   "cell_type": "markdown",
   "id": "ba271d17",
   "metadata": {},
   "source": [
    "## Uniform Cost Search"
   ]
  },
  {
   "cell_type": "code",
   "execution_count": 19,
   "id": "74afa38e",
   "metadata": {},
   "outputs": [
    {
     "name": "stdout",
     "output_type": "stream",
     "text": [
      "A->D->G->H 6\n"
     ]
    }
   ],
   "source": [
    "import heapq\n",
    "\n",
    "graph = {\n",
    "    'A': [('B', 1), ('C', 3),('D',1)],\n",
    "    'B': [('E', 10)],\n",
    "    'C': [('F', 8)],\n",
    "    'D': [('G', 4)],\n",
    "    'G': [('H', 1)]\n",
    "}\n",
    "\n",
    "def ucs(start):\n",
    "    priority_queue = [(0, start)]\n",
    "    visited = {start: (0, None)}\n",
    "\n",
    "    while priority_queue:\n",
    "        current_cost, current = heapq.heappop(priority_queue)\n",
    "\n",
    "        if current == 'H':\n",
    "            return current_cost, path(visited, start, 'H')\n",
    "\n",
    "        for neighbour, cost in graph[current]:\n",
    "            total_cost = current_cost + cost\n",
    "            if neighbour not in visited or total_cost < visited[neighbour][0]:\n",
    "                visited[neighbour] = (total_cost, current)\n",
    "                heapq.heappush(priority_queue, (total_cost, neighbour))\n",
    "\n",
    "    return None\n",
    "\n",
    "def path(visited, start, goal):\n",
    "    path = []\n",
    "    current = goal\n",
    "    while current is not None:\n",
    "        path.append(current)\n",
    "        current = visited[current][1]\n",
    "    path.reverse()\n",
    "    return path\n",
    "\n",
    "cost, path = ucs('A')\n",
    "print(\"->\".join(path), cost)\n"
   ]
  }
 ],
 "metadata": {
  "kernelspec": {
   "display_name": "Python 3 (ipykernel)",
   "language": "python",
   "name": "python3"
  },
  "language_info": {
   "codemirror_mode": {
    "name": "ipython",
    "version": 3
   },
   "file_extension": ".py",
   "mimetype": "text/x-python",
   "name": "python",
   "nbconvert_exporter": "python",
   "pygments_lexer": "ipython3",
   "version": "3.11.5"
  }
 },
 "nbformat": 4,
 "nbformat_minor": 5
}
