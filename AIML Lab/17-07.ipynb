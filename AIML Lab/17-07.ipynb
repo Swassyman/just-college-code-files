{
 "cells": [
  {
   "cell_type": "code",
   "execution_count": 46,
   "id": "d3aadaa2",
   "metadata": {},
   "outputs": [],
   "source": [
    "graph = {\n",
    "    'A': ['B','C'],\n",
    "    'B': ['D'],\n",
    "    'C': [],\n",
    "    'D': []\n",
    "}"
   ]
  },
  {
   "cell_type": "code",
   "execution_count": 49,
   "id": "78fbca27",
   "metadata": {},
   "outputs": [
    {
     "name": "stdout",
     "output_type": "stream",
     "text": [
      "A\n",
      "A\n",
      "B\n"
     ]
    }
   ],
   "source": [
    "for vertex in graph:\n",
    "    for neighbour in graph[vertex]:\n",
    "        print(vertex)"
   ]
  },
  {
   "cell_type": "code",
   "execution_count": 12,
   "id": "2173c7eb",
   "metadata": {},
   "outputs": [
    {
     "name": "stdout",
     "output_type": "stream",
     "text": [
      "('A', ['A'], 0)\n",
      "('B', ['A', 'B'], 1)\n"
     ]
    }
   ],
   "source": [
    "paths = [('A', ['A'], 0), ('B', ['A', 'B'], 1)]\n",
    "for step in paths:\n",
    "    print(step)"
   ]
  },
  {
   "cell_type": "code",
   "execution_count": 14,
   "id": "0d43e4fc",
   "metadata": {},
   "outputs": [
    {
     "name": "stdout",
     "output_type": "stream",
     "text": [
      "['A', 'B', 'C']\n"
     ]
    }
   ],
   "source": [
    "path = ['A', 'B']\n",
    "updated_path = path + ['C']\n",
    "print(updated_path)"
   ]
  },
  {
   "cell_type": "code",
   "execution_count": 27,
   "id": "7130ad12",
   "metadata": {},
   "outputs": [
    {
     "name": "stdout",
     "output_type": "stream",
     "text": [
      "A\n",
      "deque(['B', 'C'])\n"
     ]
    }
   ],
   "source": [
    "from collections import deque\n",
    "\n",
    "q = deque()\n",
    "q.append('A')\n",
    "q.append('B')\n",
    "q.append('C')\n",
    "\n",
    "print(q.popleft())\n",
    "print(q)"
   ]
  },
  {
   "cell_type": "code",
   "execution_count": 44,
   "id": "66193779",
   "metadata": {},
   "outputs": [
    {
     "name": "stdout",
     "output_type": "stream",
     "text": [
      "deque([('B', ['A', 'B'], 1)])\n"
     ]
    }
   ],
   "source": [
    "frontier = deque()\n",
    "frontier.append(('B',['A','B'], 1))\n",
    "\n",
    "print(frontier)"
   ]
  },
  {
   "cell_type": "code",
   "execution_count": null,
   "id": "5c927327",
   "metadata": {},
   "outputs": [],
   "source": [
    "current, path, cost = frontier.popleft()\n",
    "\n",
    "print(\"Current :\", current)\n",
    "print(\"Path:\", path)\n",
    "print(\"Cost :\", cost)"
   ]
  },
  {
   "cell_type": "markdown",
   "id": "3ed24380",
   "metadata": {},
   "source": [
    "## Breadth-First-Search"
   ]
  },
  {
   "cell_type": "code",
   "execution_count": 9,
   "id": "c1292f8f",
   "metadata": {},
   "outputs": [
    {
     "name": "stdout",
     "output_type": "stream",
     "text": [
      "Goal reached\n",
      "1\n"
     ]
    }
   ],
   "source": [
    "from collections import deque\n",
    "\n",
    "graph = {\n",
    "    'A': ['B','C'],\n",
    "    'B': ['D'],\n",
    "    'C': [],\n",
    "    'D': []\n",
    "}\n",
    "\n",
    "def bfs(node):\n",
    "    frontier = deque()\n",
    "    frontier.append((node, [node], 0))\n",
    "    explored = []\n",
    "    \n",
    "    while frontier:\n",
    "        node = frontier.popleft()\n",
    "        current, path, cost = node\n",
    "        \n",
    "        if(goal(node)):\n",
    "            print(\"Goal reached\")\n",
    "            return cost\n",
    "        \n",
    "        explored.append(current)\n",
    "        \n",
    "        for neighbour in graph.get(current, []):\n",
    "            if neighbour not in explored:\n",
    "                frontier.append((neighbour, path + [neighbour], cost + 1))\n",
    "        \n",
    "    \n",
    "def goal(node):\n",
    "    return node[0] == 'D'\n",
    "\n",
    "print(bfs('B'))"
   ]
  },
  {
   "cell_type": "markdown",
   "id": "4a31e73b",
   "metadata": {},
   "source": [
    "## Depth First Search"
   ]
  },
  {
   "cell_type": "code",
   "execution_count": null,
   "id": "68e76ce0",
   "metadata": {},
   "outputs": [],
   "source": []
  }
 ],
 "metadata": {
  "kernelspec": {
   "display_name": "Python 3 (ipykernel)",
   "language": "python",
   "name": "python3"
  },
  "language_info": {
   "codemirror_mode": {
    "name": "ipython",
    "version": 3
   },
   "file_extension": ".py",
   "mimetype": "text/x-python",
   "name": "python",
   "nbconvert_exporter": "python",
   "pygments_lexer": "ipython3",
   "version": "3.11.5"
  }
 },
 "nbformat": 4,
 "nbformat_minor": 5
}
