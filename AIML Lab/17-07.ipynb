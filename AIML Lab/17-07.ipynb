{
 "cells": [
  {
   "cell_type": "code",
   "execution_count": 46,
   "id": "d3aadaa2",
   "metadata": {},
   "outputs": [],
   "source": [
    "graph = {\n",
    "    'A': ['B','C'],\n",
    "    'B': ['D'],\n",
    "    'C': [],\n",
    "    'D': []\n",
    "}"
   ]
  },
  {
   "cell_type": "code",
   "execution_count": 49,
   "id": "78fbca27",
   "metadata": {},
   "outputs": [
    {
     "name": "stdout",
     "output_type": "stream",
     "text": [
      "A\n",
      "A\n",
      "B\n"
     ]
    }
   ],
   "source": [
    "for vertex in graph:\n",
    "    for neighbour in graph[vertex]:\n",
    "        print(vertex)"
   ]
  },
  {
   "cell_type": "code",
   "execution_count": 12,
   "id": "2173c7eb",
   "metadata": {},
   "outputs": [
    {
     "name": "stdout",
     "output_type": "stream",
     "text": [
      "('A', ['A'], 0)\n",
      "('B', ['A', 'B'], 1)\n"
     ]
    }
   ],
   "source": [
    "paths = [('A', ['A'], 0), ('B', ['A', 'B'], 1)]\n",
    "for step in paths:\n",
    "    print(step)"
   ]
  },
  {
   "cell_type": "code",
   "execution_count": 14,
   "id": "0d43e4fc",
   "metadata": {},
   "outputs": [
    {
     "name": "stdout",
     "output_type": "stream",
     "text": [
      "['A', 'B', 'C']\n"
     ]
    }
   ],
   "source": [
    "path = ['A', 'B']\n",
    "updated_path = path + ['C']\n",
    "print(updated_path)"
   ]
  },
  {
   "cell_type": "code",
   "execution_count": 27,
   "id": "7130ad12",
   "metadata": {},
   "outputs": [
    {
     "name": "stdout",
     "output_type": "stream",
     "text": [
      "A\n",
      "deque(['B', 'C'])\n"
     ]
    }
   ],
   "source": [
    "from collections import deque\n",
    "\n",
    "q = deque()\n",
    "q.append('A')\n",
    "q.append('B')\n",
    "q.append('C')\n",
    "\n",
    "print(q.popleft())\n",
    "print(q)"
   ]
  },
  {
   "cell_type": "code",
   "execution_count": 44,
   "id": "66193779",
   "metadata": {},
   "outputs": [
    {
     "name": "stdout",
     "output_type": "stream",
     "text": [
      "deque([('B', ['A', 'B'], 1)])\n"
     ]
    }
   ],
   "source": [
    "frontier = deque()\n",
    "frontier.append(('B',['A','B'], 1))\n",
    "\n",
    "print(frontier)"
   ]
  },
  {
   "cell_type": "code",
   "execution_count": null,
   "id": "5c927327",
   "metadata": {},
   "outputs": [],
   "source": [
    "current, path, cost = frontier.popleft()\n",
    "\n",
    "print(\"Current :\", current)\n",
    "print(\"Path:\", path)\n",
    "print(\"Cost :\", cost)"
   ]
  },
  {
   "cell_type": "markdown",
   "id": "3ed24380",
   "metadata": {},
   "source": [
    "## Breadth-First-Search"
   ]
  },
  {
   "cell_type": "code",
   "execution_count": 87,
   "id": "c1292f8f",
   "metadata": {},
   "outputs": [
    {
     "name": "stdout",
     "output_type": "stream",
     "text": [
      "('A', ['A'], 0)\n",
      "A\n"
     ]
    },
    {
     "ename": "IndexError",
     "evalue": "string index out of range",
     "output_type": "error",
     "traceback": [
      "\u001b[1;31m---------------------------------------------------------------------------\u001b[0m",
      "\u001b[1;31mIndexError\u001b[0m                                Traceback (most recent call last)",
      "Cell \u001b[1;32mIn[87], line 31\u001b[0m\n\u001b[0;32m     28\u001b[0m         \u001b[38;5;28;01mreturn\u001b[39;00m \u001b[38;5;28;01mTrue\u001b[39;00m\n\u001b[0;32m     29\u001b[0m     \u001b[38;5;28;01mreturn\u001b[39;00m \u001b[38;5;28;01mFalse\u001b[39;00m\n\u001b[1;32m---> 31\u001b[0m bfs()\n",
      "Cell \u001b[1;32mIn[87], line 18\u001b[0m, in \u001b[0;36mbfs\u001b[1;34m()\u001b[0m\n\u001b[0;32m     16\u001b[0m explored\u001b[38;5;241m.\u001b[39mappend(node)\n\u001b[0;32m     17\u001b[0m \u001b[38;5;28mprint\u001b[39m(node)\n\u001b[1;32m---> 18\u001b[0m \u001b[38;5;28;01mfor\u001b[39;00m vertex \u001b[38;5;129;01min\u001b[39;00m node[\u001b[38;5;241m1\u001b[39m]:\n\u001b[0;32m     19\u001b[0m     \u001b[38;5;28;01mif\u001b[39;00m vertex \u001b[38;5;129;01mnot\u001b[39;00m \u001b[38;5;129;01min\u001b[39;00m frontier \u001b[38;5;129;01mand\u001b[39;00m vertex \u001b[38;5;129;01mnot\u001b[39;00m \u001b[38;5;129;01min\u001b[39;00m explored:\n\u001b[0;32m     20\u001b[0m         \u001b[38;5;28;01mif\u001b[39;00m(goal(node)):\n",
      "\u001b[1;31mIndexError\u001b[0m: string index out of range"
     ]
    }
   ],
   "source": [
    "from collections import deque\n",
    "\n",
    "paths = [('A', ['A'], 0), ('B', ['A', 'B'], 1)]\n",
    "\n",
    "def bfs():\n",
    "    node = paths[0]\n",
    "    if(goal(node)):\n",
    "        return node[2]\n",
    "    frontier = deque()\n",
    "    frontier.append(node)\n",
    "    explored = []\n",
    "    \n",
    "    for path in paths:\n",
    "        if frontier:\n",
    "            node = frontier.popleft()\n",
    "            explored.append(node)\n",
    "            print(node)\n",
    "            for vertex in node[1]:\n",
    "                if vertex not in frontier and vertex not in explored:\n",
    "                    if(goal(node)):\n",
    "                        return node[2]\n",
    "                    frontier.append(vertex)\n",
    "        else:\n",
    "            return -999\n",
    "    \n",
    "def goal(node):\n",
    "    if(node[0] == 'B'):\n",
    "        return True\n",
    "    return False\n",
    "\n",
    "bfs()"
   ]
  }
 ],
 "metadata": {
  "kernelspec": {
   "display_name": "Python 3 (ipykernel)",
   "language": "python",
   "name": "python3"
  },
  "language_info": {
   "codemirror_mode": {
    "name": "ipython",
    "version": 3
   },
   "file_extension": ".py",
   "mimetype": "text/x-python",
   "name": "python",
   "nbconvert_exporter": "python",
   "pygments_lexer": "ipython3",
   "version": "3.11.5"
  }
 },
 "nbformat": 4,
 "nbformat_minor": 5
}
