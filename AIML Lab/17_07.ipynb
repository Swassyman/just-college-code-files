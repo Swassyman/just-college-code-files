{
  "cells": [
    {
      "cell_type": "code",
      "execution_count": null,
      "id": "d3aadaa2",
      "metadata": {
        "id": "d3aadaa2"
      },
      "outputs": [],
      "source": [
        "graph = {\n",
        "    'A': ['B','C'],\n",
        "    'B': ['D'],\n",
        "    'C': [],\n",
        "    'D': []\n",
        "}"
      ]
    },
    {
      "cell_type": "code",
      "execution_count": null,
      "id": "78fbca27",
      "metadata": {
        "id": "78fbca27",
        "outputId": "d2f42c3d-9c0e-4eb1-fc19-fe59a4608bbe"
      },
      "outputs": [
        {
          "name": "stdout",
          "output_type": "stream",
          "text": [
            "A\n",
            "A\n",
            "B\n"
          ]
        }
      ],
      "source": [
        "for vertex in graph:\n",
        "    for neighbour in graph[vertex]:\n",
        "        print(vertex)"
      ]
    },
    {
      "cell_type": "code",
      "execution_count": null,
      "id": "2173c7eb",
      "metadata": {
        "id": "2173c7eb",
        "outputId": "4960bf2b-7976-4fbb-8534-cbdc0b75cb6e"
      },
      "outputs": [
        {
          "name": "stdout",
          "output_type": "stream",
          "text": [
            "('A', ['A'], 0)\n",
            "('B', ['A', 'B'], 1)\n"
          ]
        }
      ],
      "source": [
        "paths = [('A', ['A'], 0), ('B', ['A', 'B'], 1)]\n",
        "for step in paths:\n",
        "    print(step)"
      ]
    },
    {
      "cell_type": "code",
      "execution_count": null,
      "id": "0d43e4fc",
      "metadata": {
        "id": "0d43e4fc",
        "outputId": "f9295684-48be-4cac-a9c6-ba98f31c800c"
      },
      "outputs": [
        {
          "name": "stdout",
          "output_type": "stream",
          "text": [
            "['A', 'B', 'C']\n"
          ]
        }
      ],
      "source": [
        "path = ['A', 'B']\n",
        "updated_path = path + ['C']\n",
        "print(updated_path)"
      ]
    },
    {
      "cell_type": "code",
      "execution_count": null,
      "id": "7130ad12",
      "metadata": {
        "id": "7130ad12",
        "outputId": "6422332b-5e23-4c87-e9a5-874ecf5e0082"
      },
      "outputs": [
        {
          "name": "stdout",
          "output_type": "stream",
          "text": [
            "A\n",
            "deque(['B', 'C'])\n"
          ]
        }
      ],
      "source": [
        "from collections import deque\n",
        "\n",
        "q = deque()\n",
        "q.append('A')\n",
        "q.append('B')\n",
        "q.append('C')\n",
        "\n",
        "print(q.popleft())\n",
        "print(q)"
      ]
    },
    {
      "cell_type": "code",
      "execution_count": null,
      "id": "66193779",
      "metadata": {
        "id": "66193779",
        "outputId": "2206eab2-e22b-4134-a55f-f60b88243ab1"
      },
      "outputs": [
        {
          "name": "stdout",
          "output_type": "stream",
          "text": [
            "deque([('B', ['A', 'B'], 1)])\n"
          ]
        }
      ],
      "source": [
        "frontier = deque()\n",
        "frontier.append(('B',['A','B'], 1))\n",
        "\n",
        "print(frontier)"
      ]
    },
    {
      "cell_type": "code",
      "execution_count": null,
      "id": "5c927327",
      "metadata": {
        "id": "5c927327"
      },
      "outputs": [],
      "source": [
        "current, path, cost = frontier.popleft()\n",
        "\n",
        "print(\"Current :\", current)\n",
        "print(\"Path:\", path)\n",
        "print(\"Cost :\", cost)"
      ]
    },
    {
      "cell_type": "markdown",
      "id": "3ed24380",
      "metadata": {
        "id": "3ed24380"
      },
      "source": [
        "## Breadth-First-Search"
      ]
    },
    {
      "cell_type": "code",
      "execution_count": 9,
      "id": "c1292f8f",
      "metadata": {
        "id": "c1292f8f",
        "outputId": "ba5bcfe1-a56a-46b5-f988-6dd7fd82c823",
        "colab": {
          "base_uri": "https://localhost:8080/"
        }
      },
      "outputs": [
        {
          "output_type": "stream",
          "name": "stdout",
          "text": [
            "Goal reached\n",
            "('B->D', 1)\n"
          ]
        }
      ],
      "source": [
        "from collections import deque\n",
        "\n",
        "graph = {\n",
        "    'A': ['B','C'],\n",
        "    'B': ['D'],\n",
        "    'C': [],\n",
        "    'D': []\n",
        "}\n",
        "\n",
        "def bfs(node):\n",
        "    frontier = deque()\n",
        "    frontier.append((node, [node], 0))\n",
        "    explored = []\n",
        "\n",
        "    while frontier:\n",
        "        node = frontier.popleft()\n",
        "        current, path, cost = node\n",
        "\n",
        "        if(goal(node)):\n",
        "            print(\"Goal reached\")\n",
        "            return \"->\".join(path), cost\n",
        "\n",
        "        explored.append(current)\n",
        "\n",
        "        for neighbour in graph.get(current, []):\n",
        "            if neighbour not in explored:\n",
        "                frontier.append((neighbour, path + [neighbour], cost + 1))\n",
        "\n",
        "\n",
        "def goal(node):\n",
        "    return node[0] == 'D'\n",
        "\n",
        "print(bfs('B'))"
      ]
    },
    {
      "cell_type": "markdown",
      "id": "4a31e73b",
      "metadata": {
        "id": "4a31e73b"
      },
      "source": [
        "## Depth First Search"
      ]
    },
    {
      "cell_type": "code",
      "execution_count": 12,
      "id": "68e76ce0",
      "metadata": {
        "id": "68e76ce0",
        "outputId": "05633520-4ca9-4d02-e19d-b18bb3cf85de",
        "colab": {
          "base_uri": "https://localhost:8080/"
        }
      },
      "outputs": [
        {
          "output_type": "stream",
          "name": "stdout",
          "text": [
            "('A->B->D', 2)\n"
          ]
        }
      ],
      "source": [
        "graph = {\n",
        "    'A': ['B','C'],\n",
        "    'B': ['D'],\n",
        "    'C': [],\n",
        "    'D': []\n",
        "}\n",
        "\n",
        "visited = set()\n",
        "\n",
        "def dfs(node, path=None, cost=0):\n",
        "  if path is None:\n",
        "    path = []\n",
        "\n",
        "  path.append(node)\n",
        "  visited.add(node)\n",
        "\n",
        "  if(goal(node)):\n",
        "    return \"->\".join(path), cost\n",
        "\n",
        "  for neighbour in graph.get(node, []):\n",
        "    if neighbour not in visited:\n",
        "       result = dfs(neighbour, path[:], cost+1)\n",
        "       if result:\n",
        "         return result\n",
        "\n",
        "def goal(node):\n",
        "  return node[0] == 'D'\n",
        "\n",
        "print(dfs('A'))"
      ]
    }
  ],
  "metadata": {
    "kernelspec": {
      "display_name": "Python 3 (ipykernel)",
      "language": "python",
      "name": "python3"
    },
    "language_info": {
      "codemirror_mode": {
        "name": "ipython",
        "version": 3
      },
      "file_extension": ".py",
      "mimetype": "text/x-python",
      "name": "python",
      "nbconvert_exporter": "python",
      "pygments_lexer": "ipython3",
      "version": "3.11.5"
    },
    "colab": {
      "provenance": []
    }
  },
  "nbformat": 4,
  "nbformat_minor": 5
}